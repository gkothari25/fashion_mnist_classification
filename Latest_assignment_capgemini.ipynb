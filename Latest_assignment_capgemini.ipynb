{
  "nbformat": 4,
  "nbformat_minor": 0,
  "metadata": {
    "colab": {
      "name": "Copy of assignment_capgemini.ipynb",
      "provenance": [],
      "collapsed_sections": [],
      "authorship_tag": "ABX9TyM0BFCGeuQUFWZU0205BmdL",
      "include_colab_link": true
    },
    "kernelspec": {
      "name": "python3",
      "display_name": "Python 3"
    },
    "language_info": {
      "name": "python"
    }
  },
  "cells": [
    {
      "cell_type": "markdown",
      "metadata": {
        "id": "view-in-github",
        "colab_type": "text"
      },
      "source": [
        "<a href=\"https://colab.research.google.com/github/gkothari25/fashion_mnist_classification/blob/main/Latest_assignment_capgemini.ipynb\" target=\"_parent\"><img src=\"https://colab.research.google.com/assets/colab-badge.svg\" alt=\"Open In Colab\"/></a>"
      ]
    },
    {
      "cell_type": "code",
      "metadata": {
        "id": "h61w9qNXHw7M",
        "colab": {
          "base_uri": "https://localhost:8080/"
        },
        "outputId": "dd7ba8e9-98e4-4489-d740-2cc284f49cf3"
      },
      "source": [
        "from keras.datasets import fashion_mnist\n",
        "(x_train, y_train), (x_test, y_test) = fashion_mnist.load_data()"
      ],
      "execution_count": 4,
      "outputs": [
        {
          "output_type": "stream",
          "name": "stdout",
          "text": [
            "Downloading data from https://storage.googleapis.com/tensorflow/tf-keras-datasets/train-labels-idx1-ubyte.gz\n",
            "32768/29515 [=================================] - 0s 0us/step\n",
            "40960/29515 [=========================================] - 0s 0us/step\n",
            "Downloading data from https://storage.googleapis.com/tensorflow/tf-keras-datasets/train-images-idx3-ubyte.gz\n",
            "26427392/26421880 [==============================] - 0s 0us/step\n",
            "26435584/26421880 [==============================] - 0s 0us/step\n",
            "Downloading data from https://storage.googleapis.com/tensorflow/tf-keras-datasets/t10k-labels-idx1-ubyte.gz\n",
            "16384/5148 [===============================================================================================] - 0s 0us/step\n",
            "Downloading data from https://storage.googleapis.com/tensorflow/tf-keras-datasets/t10k-images-idx3-ubyte.gz\n",
            "4423680/4422102 [==============================] - 0s 0us/step\n",
            "4431872/4422102 [==============================] - 0s 0us/step\n"
          ]
        }
      ]
    },
    {
      "cell_type": "code",
      "metadata": {
        "id": "akq4Te38IW0Y"
      },
      "source": [
        "x_train = x_train/255.0\n",
        "x_test = x_test/255.0"
      ],
      "execution_count": 5,
      "outputs": []
    },
    {
      "cell_type": "code",
      "metadata": {
        "id": "zLVWBGvQIZoU",
        "colab": {
          "base_uri": "https://localhost:8080/"
        },
        "outputId": "bf39b75c-c709-4bfc-c775-0ab5898025f7"
      },
      "source": [
        "#select the 5k images having 500 each class\n",
        "import numpy as np\n",
        "import random\n",
        "\n",
        "index_dict = {}\n",
        "count_index = 0\n",
        "val_dict = {}\n",
        "count_val = 0\n",
        "\n",
        "#create a tensor and copy the desired data from the all the data files to that.\n",
        "train_t = np.ones((5000,28,28))\n",
        "lable_train = []\n",
        "val_t = np.ones((1500,28,28))\n",
        "lable_val = []\n",
        "\n",
        "for k in list(set(y_train)):\n",
        "  index_list = []\n",
        "  \n",
        "  for sn,i in enumerate(zip(x_train,y_train)):\n",
        "    if int(i[1]) == k:\n",
        "      index_list.append(sn) \n",
        "  index_dict[k] = index_list\n",
        "\n",
        "  #select the n random value from the list\n",
        "  random.seed(4)\n",
        "  t_list = random.sample(index_list,k=500)\n",
        "  resid_list = list(set(index_list).difference(t_list))\n",
        "  val_list = random.sample(resid_list,k=150)\n",
        "  val_dict[k] = val_list\n",
        "  \n",
        "  for index in t_list:\n",
        "    train_t[count_index] = x_train[index]\n",
        "    lable_train.append(k)\n",
        "    count_index  = count_index + 1\n",
        "  print(\"tr\",t_list[:10])\n",
        "\n",
        "  for val in val_list:\n",
        "    val_t[count_val] = x_train[val]\n",
        "    lable_val.append(k)\n",
        "    count_val = count_val + 1\n",
        "  print(\"val\",val_list[:10])\n"
      ],
      "execution_count": 71,
      "outputs": [
        {
          "output_type": "stream",
          "name": "stdout",
          "text": [
            "tr [19956, 25226, 9027, 59117, 32905, 39573, 13359, 7939, 5838, 1647]\n",
            "val [25602, 2938, 50981, 29489, 40924, 32831, 29251, 36328, 44096, 25535]\n",
            "tr [19119, 24566, 7891, 59137, 32384, 39255, 12464, 6885, 4928, 1548]\n",
            "val [42072, 52030, 34546, 29413, 24454, 49221, 12767, 3462, 11358, 9256]\n",
            "tr [19487, 24888, 8347, 59142, 32726, 39833, 12635, 7347, 5371, 1641]\n",
            "val [42134, 19279, 34581, 29434, 24556, 45, 29219, 19860, 11450, 25667]\n",
            "tr [19207, 24547, 8352, 58942, 32011, 38931, 12695, 7239, 5344, 1667]\n",
            "val [42118, 2923, 18286, 13161, 24589, 16433, 29306, 19870, 44228, 58422]\n",
            "tr [19661, 25063, 8705, 59195, 32914, 39665, 12832, 7773, 5557, 1717]\n",
            "val [9235, 35714, 1934, 12911, 24600, 16438, 12686, 36304, 11149, 9162]\n",
            "tr [19072, 24820, 8551, 59121, 32162, 39051, 12607, 7404, 5541, 1575]\n",
            "val [42086, 19196, 1769, 45838, 57323, 16420, 12838, 36196, 27779, 42040]\n",
            "tr [18883, 24064, 8310, 58928, 31587, 38545, 12173, 7385, 5532, 1687]\n",
            "val [25674, 2985, 50989, 29317, 8144, 55, 45448, 52679, 27748, 25609]\n",
            "tr [19284, 24508, 8272, 58981, 32069, 39069, 12933, 7247, 5343, 1477]\n",
            "val [9311, 35773, 1831, 46018, 57265, 16430, 13013, 36346, 27852, 25613]\n",
            "tr [19670, 25384, 8469, 59152, 32708, 39169, 12807, 7527, 5574, 1628]\n",
            "val [25779, 35772, 1874, 29497, 8365, 16460, 29247, 36441, 27796, 25703]\n",
            "tr [19118, 24920, 8359, 59088, 32828, 39275, 12458, 7332, 5361, 1616]\n",
            "val [9293, 52089, 18247, 29396, 41020, 32853, 29200, 52645, 11281, 58391]\n"
          ]
        }
      ]
    },
    {
      "cell_type": "code",
      "metadata": {
        "id": "O6r15FQHOkD1"
      },
      "source": [
        "#now lets create a network for the classification with 5 CNN layers.\n",
        "import keras\n",
        "from keras.models import Sequential\n",
        "from keras.layers import Conv2D, MaxPooling2D\n",
        "from keras.layers import Activation, Dropout, Flatten, Dense\n",
        "# from keras.layers.normalization import BatchNormalization\n",
        "from tensorflow.keras.layers import BatchNormalization\n",
        "from keras import regularizers\n",
        "from keras.regularizers import l2\n"
      ],
      "execution_count": 72,
      "outputs": []
    },
    {
      "cell_type": "code",
      "metadata": {
        "id": "9ISS7XX0pH14"
      },
      "source": [
        "model = Sequential()\n",
        "\n",
        "model.add(Conv2D(32, (3, 3), input_shape=(28,28,1)))\n",
        "model.add(Activation('relu'))\n",
        "BatchNormalization(axis=-1)\n",
        "\n",
        "model.add(Conv2D(32, (3, 3)))\n",
        "model.add(Activation('relu'))\n",
        "model.add(MaxPooling2D(pool_size=(2,2)))\n",
        "\n",
        "BatchNormalization(axis=-1)\n",
        "model.add(Conv2D(64,(3, 3)))\n",
        "model.add(Activation('relu'))\n",
        "BatchNormalization(axis=-1)\n",
        "\n",
        "model.add(Conv2D(64, (3, 3)))\n",
        "model.add(Activation('relu'))\n",
        "model.add(MaxPooling2D(pool_size=(2,2)))\n",
        "\n",
        "model.add(Flatten())\n",
        "# Fully connected layer\n",
        "\n",
        "BatchNormalization()\n",
        "model.add(Dense(512))\n",
        "model.add(Activation('relu'))\n",
        "BatchNormalization()\n",
        "\n",
        "model.add(Dropout(0.3))\n",
        "model.add(Dense(10))\n",
        "\n",
        "model.add(Activation('softmax'))\n"
      ],
      "execution_count": 87,
      "outputs": []
    },
    {
      "cell_type": "code",
      "metadata": {
        "id": "zZw55iOSuRl7"
      },
      "source": [
        "model.compile(loss='categorical_crossentropy', optimizer=\"adam\", metrics=['accuracy'])\n"
      ],
      "execution_count": 88,
      "outputs": []
    },
    {
      "cell_type": "code",
      "metadata": {
        "id": "d0DunVuhyRw1"
      },
      "source": [
        "\n",
        "from sklearn.model_selection import train_test_split\n",
        "from tensorflow.keras.utils import to_categorical\n",
        "from keras.preprocessing.image import ImageDataGenerator\n",
        "\n",
        "batch_size = 128\n",
        "epochs=60\n",
        "\n",
        "# train_data   = np.expand_dims(train_t, axis=1)\n",
        "train_data =    train_t.reshape(train_t.shape[0],28,28,1)\n",
        "train_lables = np.array(lable_train)\n",
        "one_hot_label_train = to_categorical(train_lables)\n",
        "\n",
        "# val_data = np.expand_dims(val_t, axis=1)\n",
        "val_data = val_t.reshape(val_t.shape[0],28,28,1)\n",
        "val_lables = np.array(lable_val)\n",
        "one_hot_label_val = to_categorical(val_lables)\n",
        "\n",
        "train_data_gen = ImageDataGenerator(rotation_range=8, width_shift_range=0.08, shear_range=0.3,\n",
        "                         height_shift_range=0.08, zoom_range=0.08)\n",
        "test_gen = ImageDataGenerator()\n",
        "\n",
        "train_generator = train_data_gen.flow(train_data, one_hot_label_train, batch_size=batch_size)\n",
        "test_generator = test_gen.flow(val_data, one_hot_label_val, batch_size=batch_size)\n"
      ],
      "execution_count": 91,
      "outputs": []
    },
    {
      "cell_type": "code",
      "metadata": {
        "id": "Sp0BgVmfk9kh",
        "colab": {
          "base_uri": "https://localhost:8080/"
        },
        "outputId": "f1300bc0-640b-47d4-e604-7652daff7976"
      },
      "source": [
        "# validation_data = train_data\n",
        "# validation_labels = y_val1\n",
        "\n",
        "history = model.fit(train_generator,\n",
        "              batch_size = batch_size,\n",
        "              epochs = epochs,\n",
        "              validation_data = test_generator\n",
        "              )\n",
        "model.save_weights('bottleneck_fc_model.h5')"
      ],
      "execution_count": 92,
      "outputs": [
        {
          "output_type": "stream",
          "name": "stdout",
          "text": [
            "Epoch 1/60\n",
            "40/40 [==============================] - 13s 328ms/step - loss: 0.7982 - accuracy: 0.7040 - val_loss: 0.6433 - val_accuracy: 0.7673\n",
            "Epoch 2/60\n",
            "40/40 [==============================] - 13s 326ms/step - loss: 0.7369 - accuracy: 0.7236 - val_loss: 0.5980 - val_accuracy: 0.7767\n",
            "Epoch 3/60\n",
            "40/40 [==============================] - 13s 326ms/step - loss: 0.6685 - accuracy: 0.7510 - val_loss: 0.5540 - val_accuracy: 0.7880\n",
            "Epoch 4/60\n",
            "40/40 [==============================] - 13s 329ms/step - loss: 0.6295 - accuracy: 0.7586 - val_loss: 0.5588 - val_accuracy: 0.7980\n",
            "Epoch 5/60\n",
            "40/40 [==============================] - 13s 330ms/step - loss: 0.6103 - accuracy: 0.7680 - val_loss: 0.5161 - val_accuracy: 0.8080\n",
            "Epoch 6/60\n",
            "40/40 [==============================] - 13s 327ms/step - loss: 0.5657 - accuracy: 0.7844 - val_loss: 0.4874 - val_accuracy: 0.8213\n",
            "Epoch 7/60\n",
            "40/40 [==============================] - 13s 335ms/step - loss: 0.5268 - accuracy: 0.7984 - val_loss: 0.5790 - val_accuracy: 0.7760\n",
            "Epoch 8/60\n",
            "40/40 [==============================] - 13s 329ms/step - loss: 0.5468 - accuracy: 0.7892 - val_loss: 0.4800 - val_accuracy: 0.8253\n",
            "Epoch 9/60\n",
            "40/40 [==============================] - 13s 331ms/step - loss: 0.5187 - accuracy: 0.8022 - val_loss: 0.5250 - val_accuracy: 0.8040\n",
            "Epoch 10/60\n",
            "40/40 [==============================] - 13s 328ms/step - loss: 0.5222 - accuracy: 0.7936 - val_loss: 0.4403 - val_accuracy: 0.8233\n",
            "Epoch 11/60\n",
            "40/40 [==============================] - 13s 328ms/step - loss: 0.4926 - accuracy: 0.8134 - val_loss: 0.4146 - val_accuracy: 0.8433\n",
            "Epoch 12/60\n",
            "40/40 [==============================] - 13s 329ms/step - loss: 0.4550 - accuracy: 0.8300 - val_loss: 0.4431 - val_accuracy: 0.8320\n",
            "Epoch 13/60\n",
            "40/40 [==============================] - 13s 329ms/step - loss: 0.4417 - accuracy: 0.8292 - val_loss: 0.4385 - val_accuracy: 0.8433\n",
            "Epoch 14/60\n",
            "40/40 [==============================] - 13s 327ms/step - loss: 0.4685 - accuracy: 0.8196 - val_loss: 0.4153 - val_accuracy: 0.8367\n",
            "Epoch 15/60\n",
            "40/40 [==============================] - 13s 328ms/step - loss: 0.4298 - accuracy: 0.8308 - val_loss: 0.4180 - val_accuracy: 0.8347\n",
            "Epoch 16/60\n",
            "40/40 [==============================] - 13s 326ms/step - loss: 0.4102 - accuracy: 0.8372 - val_loss: 0.4023 - val_accuracy: 0.8520\n",
            "Epoch 17/60\n",
            "40/40 [==============================] - 13s 326ms/step - loss: 0.3831 - accuracy: 0.8550 - val_loss: 0.3698 - val_accuracy: 0.8607\n",
            "Epoch 18/60\n",
            "40/40 [==============================] - 13s 327ms/step - loss: 0.4176 - accuracy: 0.8410 - val_loss: 0.3700 - val_accuracy: 0.8547\n",
            "Epoch 19/60\n",
            "40/40 [==============================] - 13s 337ms/step - loss: 0.3841 - accuracy: 0.8518 - val_loss: 0.3729 - val_accuracy: 0.8600\n",
            "Epoch 20/60\n",
            "40/40 [==============================] - 13s 327ms/step - loss: 0.3738 - accuracy: 0.8546 - val_loss: 0.3640 - val_accuracy: 0.8613\n",
            "Epoch 21/60\n",
            "40/40 [==============================] - 13s 329ms/step - loss: 0.3634 - accuracy: 0.8596 - val_loss: 0.3918 - val_accuracy: 0.8513\n",
            "Epoch 22/60\n",
            "40/40 [==============================] - 13s 330ms/step - loss: 0.3757 - accuracy: 0.8568 - val_loss: 0.3683 - val_accuracy: 0.8600\n",
            "Epoch 23/60\n",
            "40/40 [==============================] - 13s 328ms/step - loss: 0.3540 - accuracy: 0.8606 - val_loss: 0.3968 - val_accuracy: 0.8587\n",
            "Epoch 24/60\n",
            "40/40 [==============================] - 13s 329ms/step - loss: 0.3429 - accuracy: 0.8670 - val_loss: 0.4105 - val_accuracy: 0.8560\n",
            "Epoch 25/60\n",
            "40/40 [==============================] - 13s 326ms/step - loss: 0.3484 - accuracy: 0.8674 - val_loss: 0.3632 - val_accuracy: 0.8567\n",
            "Epoch 26/60\n",
            "40/40 [==============================] - 13s 330ms/step - loss: 0.3327 - accuracy: 0.8750 - val_loss: 0.3480 - val_accuracy: 0.8647\n",
            "Epoch 27/60\n",
            "40/40 [==============================] - 13s 327ms/step - loss: 0.3403 - accuracy: 0.8658 - val_loss: 0.3846 - val_accuracy: 0.8580\n",
            "Epoch 28/60\n",
            "40/40 [==============================] - 13s 326ms/step - loss: 0.3398 - accuracy: 0.8684 - val_loss: 0.3489 - val_accuracy: 0.8680\n",
            "Epoch 29/60\n",
            "40/40 [==============================] - 13s 326ms/step - loss: 0.3138 - accuracy: 0.8822 - val_loss: 0.3324 - val_accuracy: 0.8793\n",
            "Epoch 30/60\n",
            "40/40 [==============================] - 13s 330ms/step - loss: 0.3230 - accuracy: 0.8734 - val_loss: 0.3412 - val_accuracy: 0.8740\n",
            "Epoch 31/60\n",
            "40/40 [==============================] - 13s 328ms/step - loss: 0.2947 - accuracy: 0.8900 - val_loss: 0.3384 - val_accuracy: 0.8820\n",
            "Epoch 32/60\n",
            "40/40 [==============================] - 13s 327ms/step - loss: 0.3027 - accuracy: 0.8858 - val_loss: 0.3245 - val_accuracy: 0.8820\n",
            "Epoch 33/60\n",
            "40/40 [==============================] - 13s 327ms/step - loss: 0.3133 - accuracy: 0.8818 - val_loss: 0.3475 - val_accuracy: 0.8780\n",
            "Epoch 34/60\n",
            "40/40 [==============================] - 13s 327ms/step - loss: 0.2910 - accuracy: 0.8876 - val_loss: 0.3563 - val_accuracy: 0.8673\n",
            "Epoch 35/60\n",
            "40/40 [==============================] - 13s 325ms/step - loss: 0.3026 - accuracy: 0.8830 - val_loss: 0.3332 - val_accuracy: 0.8807\n",
            "Epoch 36/60\n",
            "40/40 [==============================] - 13s 329ms/step - loss: 0.2845 - accuracy: 0.8890 - val_loss: 0.3388 - val_accuracy: 0.8847\n",
            "Epoch 37/60\n",
            "40/40 [==============================] - 13s 335ms/step - loss: 0.2960 - accuracy: 0.8846 - val_loss: 0.3254 - val_accuracy: 0.8840\n",
            "Epoch 38/60\n",
            "40/40 [==============================] - 13s 331ms/step - loss: 0.2796 - accuracy: 0.8914 - val_loss: 0.3172 - val_accuracy: 0.8813\n",
            "Epoch 39/60\n",
            "40/40 [==============================] - 13s 328ms/step - loss: 0.2618 - accuracy: 0.9004 - val_loss: 0.3133 - val_accuracy: 0.8867\n",
            "Epoch 40/60\n",
            "40/40 [==============================] - 13s 329ms/step - loss: 0.2699 - accuracy: 0.8980 - val_loss: 0.3496 - val_accuracy: 0.8760\n",
            "Epoch 41/60\n",
            "40/40 [==============================] - 13s 330ms/step - loss: 0.2566 - accuracy: 0.9014 - val_loss: 0.3577 - val_accuracy: 0.8733\n",
            "Epoch 42/60\n",
            "40/40 [==============================] - 13s 329ms/step - loss: 0.2830 - accuracy: 0.8866 - val_loss: 0.3351 - val_accuracy: 0.8800\n",
            "Epoch 43/60\n",
            "40/40 [==============================] - 13s 333ms/step - loss: 0.2630 - accuracy: 0.9018 - val_loss: 0.3300 - val_accuracy: 0.8873\n",
            "Epoch 44/60\n",
            "40/40 [==============================] - 13s 327ms/step - loss: 0.2437 - accuracy: 0.9068 - val_loss: 0.3231 - val_accuracy: 0.8840\n",
            "Epoch 45/60\n",
            "40/40 [==============================] - 13s 327ms/step - loss: 0.2453 - accuracy: 0.9046 - val_loss: 0.3371 - val_accuracy: 0.8840\n",
            "Epoch 46/60\n",
            "40/40 [==============================] - 14s 338ms/step - loss: 0.2525 - accuracy: 0.9034 - val_loss: 0.3266 - val_accuracy: 0.8853\n",
            "Epoch 47/60\n",
            "40/40 [==============================] - 13s 328ms/step - loss: 0.2448 - accuracy: 0.9036 - val_loss: 0.3502 - val_accuracy: 0.8820\n",
            "Epoch 48/60\n",
            "40/40 [==============================] - 13s 328ms/step - loss: 0.2284 - accuracy: 0.9116 - val_loss: 0.3401 - val_accuracy: 0.8853\n",
            "Epoch 49/60\n",
            "40/40 [==============================] - 13s 326ms/step - loss: 0.2303 - accuracy: 0.9116 - val_loss: 0.3547 - val_accuracy: 0.8800\n",
            "Epoch 50/60\n",
            "40/40 [==============================] - 13s 327ms/step - loss: 0.2388 - accuracy: 0.9084 - val_loss: 0.3322 - val_accuracy: 0.8880\n",
            "Epoch 51/60\n",
            "40/40 [==============================] - 13s 329ms/step - loss: 0.2254 - accuracy: 0.9148 - val_loss: 0.3455 - val_accuracy: 0.8800\n",
            "Epoch 52/60\n",
            "40/40 [==============================] - 13s 326ms/step - loss: 0.2177 - accuracy: 0.9144 - val_loss: 0.3193 - val_accuracy: 0.8927\n",
            "Epoch 53/60\n",
            "40/40 [==============================] - 13s 325ms/step - loss: 0.2214 - accuracy: 0.9178 - val_loss: 0.3427 - val_accuracy: 0.8793\n",
            "Epoch 54/60\n",
            "40/40 [==============================] - 13s 327ms/step - loss: 0.2282 - accuracy: 0.9104 - val_loss: 0.3554 - val_accuracy: 0.8787\n",
            "Epoch 55/60\n",
            "40/40 [==============================] - 13s 327ms/step - loss: 0.2081 - accuracy: 0.9220 - val_loss: 0.3615 - val_accuracy: 0.8760\n",
            "Epoch 56/60\n",
            "40/40 [==============================] - 13s 327ms/step - loss: 0.2169 - accuracy: 0.9142 - val_loss: 0.3384 - val_accuracy: 0.8820\n",
            "Epoch 57/60\n",
            "40/40 [==============================] - 13s 327ms/step - loss: 0.2242 - accuracy: 0.9140 - val_loss: 0.3359 - val_accuracy: 0.8880\n",
            "Epoch 58/60\n",
            "40/40 [==============================] - 13s 326ms/step - loss: 0.2147 - accuracy: 0.9208 - val_loss: 0.3272 - val_accuracy: 0.8993\n",
            "Epoch 59/60\n",
            "40/40 [==============================] - 13s 328ms/step - loss: 0.2058 - accuracy: 0.9224 - val_loss: 0.3558 - val_accuracy: 0.8913\n",
            "Epoch 60/60\n",
            "40/40 [==============================] - 13s 326ms/step - loss: 0.1975 - accuracy: 0.9252 - val_loss: 0.3534 - val_accuracy: 0.8847\n"
          ]
        }
      ]
    },
    {
      "cell_type": "code",
      "metadata": {
        "id": "-WdBiBDHv0To",
        "colab": {
          "base_uri": "https://localhost:8080/",
          "height": 295
        },
        "outputId": "22637543-cbfd-4418-8d2c-207b5a67684e"
      },
      "source": [
        "import matplotlib.pyplot as plt\n",
        "\n",
        "# summarize history for loss\n",
        "plt.plot(history.history['loss'])\n",
        "plt.plot(history.history['val_loss'])\n",
        "plt.title('model loss')\n",
        "plt.ylabel('loss')\n",
        "plt.xlabel('epoch')\n",
        "plt.legend(['train', 'test'], loc='upper left')\n",
        "plt.show()"
      ],
      "execution_count": 93,
      "outputs": [
        {
          "output_type": "display_data",
          "data": {
            "image/png": "[encoded data removed]",
            "text/plain": [
              "<Figure size 432x288 with 1 Axes>"
            ]
          },
          "metadata": {
            "needs_background": "light"
          }
        }
      ]
    },
    {
      "cell_type": "code",
      "metadata": {
        "colab": {
          "base_uri": "https://localhost:8080/",
          "height": 295
        },
        "id": "_EASp2qMgpY4",
        "outputId": "89d6cc83-8c6a-4ed7-c8c0-c3cb4655036d"
      },
      "source": [
        "# summarize history for accuracy\n",
        "plt.plot(history.history['accuracy'])\n",
        "plt.plot(history.history['val_accuracy'])\n",
        "plt.title('model accuracy')\n",
        "plt.ylabel('accuracy')\n",
        "plt.xlabel('epoch')\n",
        "plt.legend(['train', 'test'], loc='upper left')\n",
        "plt.show()"
      ],
      "execution_count": 94,
      "outputs": [
        {
          "output_type": "display_data",
          "data": {
            "image/png": "[encoded data removed]",
            "text/plain": [
              "<Figure size 432x288 with 1 Axes>"
            ]
          },
          "metadata": {
            "needs_background": "light"
          }
        }
      ]
    },
    {
      "cell_type": "code",
      "metadata": {
        "id": "Pp6h6NntkjcF",
        "colab": {
          "base_uri": "https://localhost:8080/"
        },
        "outputId": "7e644adb-bfc5-48b6-bd3c-0dd5497a03de"
      },
      "source": [
        "x_test1 = x_test.reshape(x_test.shape[0],28,28,1)\n",
        "\n",
        "one_hot_label_test = to_categorical(y_test)\n",
        "\n",
        "test_loss, test_acc = model.evaluate(x_test1,  one_hot_label_test, verbose=2)\n",
        "\n",
        "print(test_loss,test_acc)"
      ],
      "execution_count": 95,
      "outputs": [
        {
          "output_type": "stream",
          "name": "stdout",
          "text": [
            "313/313 - 6s - loss: 0.3917 - accuracy: 0.8814\n",
            "0.39173465967178345 0.8813999891281128\n"
          ]
        }
      ]
    },
    {
      "cell_type": "code",
      "metadata": {
        "id": "EUNQ9iL2gupu"
      },
      "source": [
        ""
      ],
      "execution_count": null,
      "outputs": []
    }
  ]
}