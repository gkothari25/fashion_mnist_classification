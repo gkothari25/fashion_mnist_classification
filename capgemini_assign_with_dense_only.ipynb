{
  "nbformat": 4,
  "nbformat_minor": 0,
  "metadata": {
    "colab": {
      "name": "Untitled5.ipynb",
      "provenance": [],
      "collapsed_sections": [],
      "authorship_tag": "ABX9TyM4zEw6X9xVkiVlhJ5fVEFI",
      "include_colab_link": true
    },
    "kernelspec": {
      "name": "python3",
      "display_name": "Python 3"
    },
    "language_info": {
      "name": "python"
    }
  },
  "cells": [
    {
      "cell_type": "markdown",
      "metadata": {
        "id": "view-in-github",
        "colab_type": "text"
      },
      "source": [
        "<a href=\"https://colab.research.google.com/github/gkothari25/fashion_mnist_classification/blob/main/capgemini_assign_with_dense_only.ipynb\" target=\"_parent\"><img src=\"https://colab.research.google.com/assets/colab-badge.svg\" alt=\"Open In Colab\"/></a>"
      ]
    },
    {
      "cell_type": "code",
      "metadata": {
        "colab": {
          "base_uri": "https://localhost:8080/"
        },
        "id": "Def8sB4QCItq",
        "outputId": "2e84c30c-202f-4385-a806-c68f2263c4fc"
      },
      "source": [
        "from keras.datasets import fashion_mnist\n",
        "(x_train, y_train), (x_test, y_test) = fashion_mnist.load_data()"
      ],
      "execution_count": 1,
      "outputs": [
        {
          "output_type": "stream",
          "name": "stdout",
          "text": [
            "Downloading data from https://storage.googleapis.com/tensorflow/tf-keras-datasets/train-labels-idx1-ubyte.gz\n",
            "32768/29515 [=================================] - 0s 0us/step\n",
            "40960/29515 [=========================================] - 0s 0us/step\n",
            "Downloading data from https://storage.googleapis.com/tensorflow/tf-keras-datasets/train-images-idx3-ubyte.gz\n",
            "26427392/26421880 [==============================] - 0s 0us/step\n",
            "26435584/26421880 [==============================] - 0s 0us/step\n",
            "Downloading data from https://storage.googleapis.com/tensorflow/tf-keras-datasets/t10k-labels-idx1-ubyte.gz\n",
            "16384/5148 [===============================================================================================] - 0s 0us/step\n",
            "Downloading data from https://storage.googleapis.com/tensorflow/tf-keras-datasets/t10k-images-idx3-ubyte.gz\n",
            "4423680/4422102 [==============================] - 0s 0us/step\n",
            "4431872/4422102 [==============================] - 0s 0us/step\n"
          ]
        }
      ]
    },
    {
      "cell_type": "code",
      "metadata": {
        "id": "lbkvfk8tCLHj"
      },
      "source": [
        "x_train = x_train/255.0\n",
        "x_test = x_test/255.0"
      ],
      "execution_count": 2,
      "outputs": []
    },
    {
      "cell_type": "code",
      "metadata": {
        "colab": {
          "base_uri": "https://localhost:8080/"
        },
        "id": "qQIiOimFCMAr",
        "outputId": "4d267f78-bd0c-46b0-cead-cf7578917cd4"
      },
      "source": [
        "#select the 5k images having 500 each class\n",
        "import numpy as np\n",
        "import random\n",
        "\n",
        "index_dict = {}\n",
        "count_index = 0\n",
        "val_dict = {}\n",
        "count_val = 0\n",
        "\n",
        "#create a tensor and copy the desired data from the all the data files to that.\n",
        "train_t = np.ones((5000,28,28))\n",
        "lable_train = []\n",
        "val_t = np.ones((1500,28,28))\n",
        "lable_val = []\n",
        "\n",
        "for k in list(set(y_train)):\n",
        "  index_list = []\n",
        "  \n",
        "  for sn,i in enumerate(zip(x_train,y_train)):\n",
        "    if int(i[1]) == k:\n",
        "      index_list.append(sn) \n",
        "  index_dict[k] = index_list\n",
        "\n",
        "  #select the n random value from the list\n",
        "  random.seed(4)\n",
        "  t_list = random.sample(index_list,k=500)\n",
        "  resid_list = list(set(index_list).difference(t_list))\n",
        "  val_list = random.sample(resid_list,k=150)\n",
        "  val_dict[k] = val_list\n",
        "  \n",
        "  for index in t_list:\n",
        "    train_t[count_index] = x_train[index]\n",
        "    lable_train.append(k)\n",
        "    count_index  = count_index + 1\n",
        "  print(\"tr\",t_list[:10])\n",
        "\n",
        "  for val in val_list:\n",
        "    val_t[count_val] = x_train[val]\n",
        "    lable_val.append(k)\n",
        "    count_val = count_val + 1\n",
        "  print(\"val\",val_list[:10])\n"
      ],
      "execution_count": 3,
      "outputs": [
        {
          "output_type": "stream",
          "name": "stdout",
          "text": [
            "tr [19956, 25226, 9027, 59117, 32905, 39573, 13359, 7939, 5838, 1647]\n",
            "val [25602, 2938, 50981, 29489, 40924, 32831, 29251, 36328, 44096, 25535]\n",
            "tr [19119, 24566, 7891, 59137, 32384, 39255, 12464, 6885, 4928, 1548]\n",
            "val [42072, 52030, 34546, 29413, 24454, 49221, 12767, 3462, 11358, 9256]\n",
            "tr [19487, 24888, 8347, 59142, 32726, 39833, 12635, 7347, 5371, 1641]\n",
            "val [42134, 19279, 34581, 29434, 24556, 45, 29219, 19860, 11450, 25667]\n",
            "tr [19207, 24547, 8352, 58942, 32011, 38931, 12695, 7239, 5344, 1667]\n",
            "val [42118, 2923, 18286, 13161, 24589, 16433, 29306, 19870, 44228, 58422]\n",
            "tr [19661, 25063, 8705, 59195, 32914, 39665, 12832, 7773, 5557, 1717]\n",
            "val [9235, 35714, 1934, 12911, 24600, 16438, 12686, 36304, 11149, 9162]\n",
            "tr [19072, 24820, 8551, 59121, 32162, 39051, 12607, 7404, 5541, 1575]\n",
            "val [42086, 19196, 1769, 45838, 57323, 16420, 12838, 36196, 27779, 42040]\n",
            "tr [18883, 24064, 8310, 58928, 31587, 38545, 12173, 7385, 5532, 1687]\n",
            "val [25674, 2985, 50989, 29317, 8144, 55, 45448, 52679, 27748, 25609]\n",
            "tr [19284, 24508, 8272, 58981, 32069, 39069, 12933, 7247, 5343, 1477]\n",
            "val [9311, 35773, 1831, 46018, 57265, 16430, 13013, 36346, 27852, 25613]\n",
            "tr [19670, 25384, 8469, 59152, 32708, 39169, 12807, 7527, 5574, 1628]\n",
            "val [25779, 35772, 1874, 29497, 8365, 16460, 29247, 36441, 27796, 25703]\n",
            "tr [19118, 24920, 8359, 59088, 32828, 39275, 12458, 7332, 5361, 1616]\n",
            "val [9293, 52089, 18247, 29396, 41020, 32853, 29200, 52645, 11281, 58391]\n"
          ]
        }
      ]
    },
    {
      "cell_type": "code",
      "metadata": {
        "id": "M4bAob52CRfj"
      },
      "source": [
        "#now lets create a network for the classification with 5 CNN layers.\n",
        "import keras\n",
        "from keras.models import Sequential\n",
        "from keras.layers import Conv2D, MaxPooling2D\n",
        "from keras.layers import Activation, Dropout, Flatten, Dense\n",
        "# from keras.layers.normalization import BatchNormalization\n",
        "from tensorflow.keras.layers import BatchNormalization\n",
        "from keras import regularizers\n",
        "from keras.regularizers import l2\n"
      ],
      "execution_count": 4,
      "outputs": []
    },
    {
      "cell_type": "code",
      "metadata": {
        "colab": {
          "base_uri": "https://localhost:8080/"
        },
        "id": "PKSTHrXZCWH8",
        "outputId": "55e17eb5-5d4e-457d-d7c1-830daa14bc5c"
      },
      "source": [
        "import tensorflow as tf\n",
        "from tensorflow.keras import layers\n",
        "\n",
        "model = Sequential()\n",
        "model.add(Dense(128, activation='elu', input_shape=(28,28,1)))\n",
        "BatchNormalization()\n",
        "model.add(Dropout(0.2))\n",
        "model.add(Dense(128,activation='elu'))\n",
        "BatchNormalization()\n",
        "model.add(Dropout(0.2))\n",
        "model.add(Dense(128,activation='elu'))\n",
        "BatchNormalization()\n",
        "model.add(Dropout(0.2))\n",
        "model.add(Dense(128,activation='elu'))\n",
        "BatchNormalization()\n",
        "model.add(Dropout(0.2))\n",
        "model.add(Flatten())\n",
        "model.add(Dense(10))\n",
        "model.add(Activation('softmax'))\n",
        "\n",
        "model.summary()"
      ],
      "execution_count": 21,
      "outputs": [
        {
          "output_type": "stream",
          "name": "stdout",
          "text": [
            "Model: \"sequential_6\"\n",
            "_________________________________________________________________\n",
            "Layer (type)                 Output Shape              Param #   \n",
            "=================================================================\n",
            "dense_30 (Dense)             (None, 28, 28, 128)       256       \n",
            "_________________________________________________________________\n",
            "dropout_4 (Dropout)          (None, 28, 28, 128)       0         \n",
            "_________________________________________________________________\n",
            "dense_31 (Dense)             (None, 28, 28, 128)       16512     \n",
            "_________________________________________________________________\n",
            "dropout_5 (Dropout)          (None, 28, 28, 128)       0         \n",
            "_________________________________________________________________\n",
            "dense_32 (Dense)             (None, 28, 28, 128)       16512     \n",
            "_________________________________________________________________\n",
            "dropout_6 (Dropout)          (None, 28, 28, 128)       0         \n",
            "_________________________________________________________________\n",
            "dense_33 (Dense)             (None, 28, 28, 128)       16512     \n",
            "_________________________________________________________________\n",
            "dropout_7 (Dropout)          (None, 28, 28, 128)       0         \n",
            "_________________________________________________________________\n",
            "flatten_3 (Flatten)          (None, 100352)            0         \n",
            "_________________________________________________________________\n",
            "dense_34 (Dense)             (None, 10)                1003530   \n",
            "_________________________________________________________________\n",
            "activation_4 (Activation)    (None, 10)                0         \n",
            "=================================================================\n",
            "Total params: 1,053,322\n",
            "Trainable params: 1,053,322\n",
            "Non-trainable params: 0\n",
            "_________________________________________________________________\n"
          ]
        }
      ]
    },
    {
      "cell_type": "code",
      "metadata": {
        "id": "CtkbH2jcCWFT"
      },
      "source": [
        "model.compile(loss='categorical_crossentropy', optimizer=\"adam\", metrics=['accuracy'])\n"
      ],
      "execution_count": 22,
      "outputs": []
    },
    {
      "cell_type": "code",
      "metadata": {
        "id": "clOtEISiCZQk"
      },
      "source": [
        "from sklearn.model_selection import train_test_split\n",
        "from tensorflow.keras.utils import to_categorical\n",
        "from keras.preprocessing.image import ImageDataGenerator\n",
        "\n",
        "batch_size = 128\n",
        "epochs=60\n",
        "\n",
        "# train_data   = np.expand_dims(train_t, axis=1)\n",
        "train_data =    train_t.reshape(train_t.shape[0],28,28,1)\n",
        "train_lables = np.array(lable_train)\n",
        "one_hot_label_train = to_categorical(train_lables)\n",
        "\n",
        "# val_data = np.expand_dims(val_t, axis=1)\n",
        "val_data = val_t.reshape(val_t.shape[0],28,28,1)\n",
        "val_lables = np.array(lable_val)\n",
        "one_hot_label_val = to_categorical(val_lables)\n",
        "\n",
        "train_data_gen = ImageDataGenerator(rotation_range=8, width_shift_range=0.08, shear_range=0.3,\n",
        "                         height_shift_range=0.08, zoom_range=0.08)\n",
        "test_gen = ImageDataGenerator()\n",
        "\n",
        "train_generator = train_data_gen.flow(train_data, one_hot_label_train, batch_size=batch_size)\n",
        "test_generator = test_gen.flow(val_data, one_hot_label_val, batch_size=batch_size)"
      ],
      "execution_count": 23,
      "outputs": []
    },
    {
      "cell_type": "code",
      "metadata": {
        "colab": {
          "base_uri": "https://localhost:8080/"
        },
        "id": "GYhrYi65CaBi",
        "outputId": "5c1854ae-824a-4335-f52e-bbb225b7fcbc"
      },
      "source": [
        "# validation_data = train_data\n",
        "# validation_labels = y_val1\n",
        "\n",
        "history = model.fit(train_generator,\n",
        "              batch_size = batch_size,\n",
        "              epochs = epochs,\n",
        "              validation_data = test_generator\n",
        "              )\n",
        "model.save_weights('only_dense_weight.h5')"
      ],
      "execution_count": 24,
      "outputs": [
        {
          "output_type": "stream",
          "name": "stdout",
          "text": [
            "Epoch 1/60\n",
            "40/40 [==============================] - 66s 2s/step - loss: 1.0486 - accuracy: 0.6212 - val_loss: 0.6999 - val_accuracy: 0.7473\n",
            "Epoch 2/60\n",
            "40/40 [==============================] - 65s 2s/step - loss: 0.8042 - accuracy: 0.7134 - val_loss: 0.6864 - val_accuracy: 0.7560\n",
            "Epoch 3/60\n",
            "40/40 [==============================] - 65s 2s/step - loss: 0.7656 - accuracy: 0.7158 - val_loss: 0.6457 - val_accuracy: 0.7747\n",
            "Epoch 4/60\n",
            "40/40 [==============================] - 65s 2s/step - loss: 0.7626 - accuracy: 0.7112 - val_loss: 0.6490 - val_accuracy: 0.7553\n",
            "Epoch 5/60\n",
            "40/40 [==============================] - 65s 2s/step - loss: 0.7548 - accuracy: 0.7196 - val_loss: 0.6687 - val_accuracy: 0.7693\n",
            "Epoch 6/60\n",
            "40/40 [==============================] - 65s 2s/step - loss: 0.7959 - accuracy: 0.7032 - val_loss: 0.6877 - val_accuracy: 0.7540\n",
            "Epoch 7/60\n",
            "40/40 [==============================] - 65s 2s/step - loss: 0.7754 - accuracy: 0.7172 - val_loss: 0.6213 - val_accuracy: 0.7760\n",
            "Epoch 8/60\n",
            "40/40 [==============================] - 65s 2s/step - loss: 0.7242 - accuracy: 0.7298 - val_loss: 0.6155 - val_accuracy: 0.7713\n",
            "Epoch 9/60\n",
            "40/40 [==============================] - 65s 2s/step - loss: 0.7418 - accuracy: 0.7324 - val_loss: 0.6316 - val_accuracy: 0.7640\n",
            "Epoch 10/60\n",
            "40/40 [==============================] - 65s 2s/step - loss: 0.7166 - accuracy: 0.7410 - val_loss: 0.6162 - val_accuracy: 0.7813\n",
            "Epoch 11/60\n",
            "40/40 [==============================] - 65s 2s/step - loss: 0.7125 - accuracy: 0.7440 - val_loss: 0.7073 - val_accuracy: 0.7507\n",
            "Epoch 12/60\n",
            "40/40 [==============================] - 65s 2s/step - loss: 0.7516 - accuracy: 0.7202 - val_loss: 0.6509 - val_accuracy: 0.7493\n",
            "Epoch 13/60\n",
            "40/40 [==============================] - 65s 2s/step - loss: 0.7176 - accuracy: 0.7388 - val_loss: 0.6484 - val_accuracy: 0.7780\n",
            "Epoch 14/60\n",
            "40/40 [==============================] - 65s 2s/step - loss: 0.7213 - accuracy: 0.7340 - val_loss: 0.6396 - val_accuracy: 0.7653\n",
            "Epoch 15/60\n",
            "40/40 [==============================] - 65s 2s/step - loss: 0.7316 - accuracy: 0.7322 - val_loss: 0.6324 - val_accuracy: 0.7740\n",
            "Epoch 16/60\n",
            "40/40 [==============================] - 65s 2s/step - loss: 0.6951 - accuracy: 0.7442 - val_loss: 0.6171 - val_accuracy: 0.7800\n",
            "Epoch 17/60\n",
            "40/40 [==============================] - 65s 2s/step - loss: 0.7139 - accuracy: 0.7372 - val_loss: 0.5693 - val_accuracy: 0.7967\n",
            "Epoch 18/60\n",
            "40/40 [==============================] - 66s 2s/step - loss: 0.6960 - accuracy: 0.7510 - val_loss: 0.6342 - val_accuracy: 0.7520\n",
            "Epoch 19/60\n",
            "40/40 [==============================] - 67s 2s/step - loss: 0.7151 - accuracy: 0.7310 - val_loss: 0.6106 - val_accuracy: 0.7633\n",
            "Epoch 20/60\n",
            "40/40 [==============================] - 67s 2s/step - loss: 0.6849 - accuracy: 0.7474 - val_loss: 0.6067 - val_accuracy: 0.7747\n",
            "Epoch 21/60\n",
            "40/40 [==============================] - 66s 2s/step - loss: 0.7158 - accuracy: 0.7400 - val_loss: 0.6076 - val_accuracy: 0.7780\n",
            "Epoch 22/60\n",
            "40/40 [==============================] - 66s 2s/step - loss: 0.6941 - accuracy: 0.7444 - val_loss: 0.5770 - val_accuracy: 0.7880\n",
            "Epoch 23/60\n",
            "40/40 [==============================] - 66s 2s/step - loss: 0.7333 - accuracy: 0.7254 - val_loss: 0.5962 - val_accuracy: 0.7853\n",
            "Epoch 24/60\n",
            "40/40 [==============================] - 66s 2s/step - loss: 0.7007 - accuracy: 0.7424 - val_loss: 0.5919 - val_accuracy: 0.7833\n",
            "Epoch 25/60\n",
            "40/40 [==============================] - 66s 2s/step - loss: 0.6946 - accuracy: 0.7452 - val_loss: 0.6113 - val_accuracy: 0.7760\n",
            "Epoch 26/60\n",
            "40/40 [==============================] - 66s 2s/step - loss: 0.7108 - accuracy: 0.7372 - val_loss: 0.6373 - val_accuracy: 0.7533\n",
            "Epoch 27/60\n",
            "40/40 [==============================] - 66s 2s/step - loss: 0.6997 - accuracy: 0.7422 - val_loss: 0.6228 - val_accuracy: 0.7513\n",
            "Epoch 28/60\n",
            "40/40 [==============================] - 66s 2s/step - loss: 0.6725 - accuracy: 0.7522 - val_loss: 0.6179 - val_accuracy: 0.7673\n",
            "Epoch 29/60\n",
            "40/40 [==============================] - 66s 2s/step - loss: 0.6957 - accuracy: 0.7430 - val_loss: 0.6219 - val_accuracy: 0.7680\n",
            "Epoch 30/60\n",
            "40/40 [==============================] - 66s 2s/step - loss: 0.6779 - accuracy: 0.7494 - val_loss: 0.5905 - val_accuracy: 0.7847\n",
            "Epoch 31/60\n",
            "40/40 [==============================] - 66s 2s/step - loss: 0.6853 - accuracy: 0.7498 - val_loss: 0.5940 - val_accuracy: 0.7853\n",
            "Epoch 32/60\n",
            "40/40 [==============================] - 66s 2s/step - loss: 0.6827 - accuracy: 0.7546 - val_loss: 0.5793 - val_accuracy: 0.7873\n",
            "Epoch 33/60\n",
            "40/40 [==============================] - 66s 2s/step - loss: 0.6840 - accuracy: 0.7440 - val_loss: 0.6880 - val_accuracy: 0.7133\n",
            "Epoch 34/60\n",
            "40/40 [==============================] - 65s 2s/step - loss: 0.7175 - accuracy: 0.7382 - val_loss: 0.6383 - val_accuracy: 0.7640\n",
            "Epoch 35/60\n",
            "40/40 [==============================] - 66s 2s/step - loss: 0.7148 - accuracy: 0.7360 - val_loss: 0.6355 - val_accuracy: 0.7560\n",
            "Epoch 36/60\n",
            "40/40 [==============================] - 65s 2s/step - loss: 0.6969 - accuracy: 0.7442 - val_loss: 0.5807 - val_accuracy: 0.7927\n",
            "Epoch 37/60\n",
            "40/40 [==============================] - 65s 2s/step - loss: 0.7011 - accuracy: 0.7498 - val_loss: 0.5800 - val_accuracy: 0.7867\n",
            "Epoch 38/60\n",
            "40/40 [==============================] - 65s 2s/step - loss: 0.7010 - accuracy: 0.7386 - val_loss: 0.5938 - val_accuracy: 0.7813\n",
            "Epoch 39/60\n",
            "40/40 [==============================] - 66s 2s/step - loss: 0.6834 - accuracy: 0.7456 - val_loss: 0.6249 - val_accuracy: 0.7733\n",
            "Epoch 40/60\n",
            "40/40 [==============================] - 65s 2s/step - loss: 0.6952 - accuracy: 0.7470 - val_loss: 0.6059 - val_accuracy: 0.7853\n",
            "Epoch 41/60\n",
            "40/40 [==============================] - 65s 2s/step - loss: 0.7194 - accuracy: 0.7332 - val_loss: 0.6052 - val_accuracy: 0.7847\n",
            "Epoch 42/60\n",
            "40/40 [==============================] - 65s 2s/step - loss: 0.7079 - accuracy: 0.7380 - val_loss: 0.5808 - val_accuracy: 0.7960\n",
            "Epoch 43/60\n",
            "40/40 [==============================] - 66s 2s/step - loss: 0.7009 - accuracy: 0.7432 - val_loss: 0.5792 - val_accuracy: 0.7900\n",
            "Epoch 44/60\n",
            "40/40 [==============================] - 65s 2s/step - loss: 0.7044 - accuracy: 0.7420 - val_loss: 0.5856 - val_accuracy: 0.7840\n",
            "Epoch 45/60\n",
            "40/40 [==============================] - 66s 2s/step - loss: 0.6900 - accuracy: 0.7508 - val_loss: 0.5962 - val_accuracy: 0.7767\n",
            "Epoch 46/60\n",
            "40/40 [==============================] - 66s 2s/step - loss: 0.6857 - accuracy: 0.7506 - val_loss: 0.5881 - val_accuracy: 0.7880\n",
            "Epoch 47/60\n",
            "40/40 [==============================] - 66s 2s/step - loss: 0.6993 - accuracy: 0.7418 - val_loss: 0.5883 - val_accuracy: 0.7740\n",
            "Epoch 48/60\n",
            "40/40 [==============================] - 67s 2s/step - loss: 0.6927 - accuracy: 0.7468 - val_loss: 0.6139 - val_accuracy: 0.7753\n",
            "Epoch 49/60\n",
            "40/40 [==============================] - 66s 2s/step - loss: 0.6974 - accuracy: 0.7406 - val_loss: 0.6084 - val_accuracy: 0.7833\n",
            "Epoch 50/60\n",
            "40/40 [==============================] - 67s 2s/step - loss: 0.6838 - accuracy: 0.7480 - val_loss: 0.5892 - val_accuracy: 0.7860\n",
            "Epoch 51/60\n",
            "40/40 [==============================] - 66s 2s/step - loss: 0.6908 - accuracy: 0.7474 - val_loss: 0.5741 - val_accuracy: 0.7940\n",
            "Epoch 52/60\n",
            "40/40 [==============================] - 68s 2s/step - loss: 0.6752 - accuracy: 0.7544 - val_loss: 0.5675 - val_accuracy: 0.7960\n",
            "Epoch 53/60\n",
            "40/40 [==============================] - 70s 2s/step - loss: 0.7097 - accuracy: 0.7372 - val_loss: 0.6261 - val_accuracy: 0.7647\n",
            "Epoch 54/60\n",
            "40/40 [==============================] - 71s 2s/step - loss: 0.6788 - accuracy: 0.7512 - val_loss: 0.5922 - val_accuracy: 0.7893\n",
            "Epoch 55/60\n",
            "40/40 [==============================] - 69s 2s/step - loss: 0.6970 - accuracy: 0.7448 - val_loss: 0.6058 - val_accuracy: 0.7780\n",
            "Epoch 56/60\n",
            "40/40 [==============================] - 70s 2s/step - loss: 0.6992 - accuracy: 0.7452 - val_loss: 0.5978 - val_accuracy: 0.7880\n",
            "Epoch 57/60\n",
            "40/40 [==============================] - 70s 2s/step - loss: 0.6698 - accuracy: 0.7552 - val_loss: 0.6240 - val_accuracy: 0.7620\n",
            "Epoch 58/60\n",
            "40/40 [==============================] - 70s 2s/step - loss: 0.6863 - accuracy: 0.7468 - val_loss: 0.5894 - val_accuracy: 0.7927\n",
            "Epoch 59/60\n",
            "40/40 [==============================] - 70s 2s/step - loss: 0.6857 - accuracy: 0.7452 - val_loss: 0.5949 - val_accuracy: 0.7773\n",
            "Epoch 60/60\n",
            "40/40 [==============================] - 70s 2s/step - loss: 0.6911 - accuracy: 0.7452 - val_loss: 0.5863 - val_accuracy: 0.7887\n"
          ]
        }
      ]
    },
    {
      "cell_type": "code",
      "metadata": {
        "colab": {
          "base_uri": "https://localhost:8080/",
          "height": 295
        },
        "id": "a5NPyPoLCjha",
        "outputId": "73838693-63ed-4d56-d382-13d276244d71"
      },
      "source": [
        "import matplotlib.pyplot as plt\n",
        "\n",
        "# summarize history for loss\n",
        "plt.plot(history.history['loss'])\n",
        "plt.plot(history.history['val_loss'])\n",
        "plt.title('model loss')\n",
        "plt.ylabel('loss')\n",
        "plt.xlabel('epoch')\n",
        "plt.legend(['train', 'test'], loc='upper left')\n",
        "plt.show()"
      ],
      "execution_count": 25,
      "outputs": [
        {
          "output_type": "display_data",
          "data": {
            "image/png": "[encoded data removed]",
            "text/plain": [
              "<Figure size 432x288 with 1 Axes>"
            ]
          },
          "metadata": {
            "needs_background": "light"
          }
        }
      ]
    },
    {
      "cell_type": "code",
      "metadata": {
        "colab": {
          "base_uri": "https://localhost:8080/",
          "height": 295
        },
        "id": "uYDH2ZqeCl3i",
        "outputId": "8c15d9dd-4c07-417c-ffd8-177f11f64c51"
      },
      "source": [
        "# summarize history for accuracy\n",
        "plt.plot(history.history['accuracy'])\n",
        "plt.plot(history.history['val_accuracy'])\n",
        "plt.title('model accuracy')\n",
        "plt.ylabel('accuracy')\n",
        "plt.xlabel('epoch')\n",
        "plt.legend(['train', 'test'], loc='upper left')\n",
        "plt.show()"
      ],
      "execution_count": 26,
      "outputs": [
        {
          "output_type": "display_data",
          "data": {
            "image/png": "[encoded data removed]",
            "text/plain": [
              "<Figure size 432x288 with 1 Axes>"
            ]
          },
          "metadata": {
            "needs_background": "light"
          }
        }
      ]
    },
    {
      "cell_type": "code",
      "metadata": {
        "colab": {
          "base_uri": "https://localhost:8080/"
        },
        "id": "2Sf1-G4DCoW7",
        "outputId": "97b77383-5538-4209-cfe9-52360e8221c2"
      },
      "source": [
        "x_test1 = x_test.reshape(x_test.shape[0],28,28,1)\n",
        "\n",
        "one_hot_label_test = to_categorical(y_test)\n",
        "\n",
        "test_loss, test_acc = model.evaluate(x_test1,  one_hot_label_test, verbose=2)\n",
        "\n",
        "print(test_loss,test_acc)"
      ],
      "execution_count": 27,
      "outputs": [
        {
          "output_type": "stream",
          "name": "stdout",
          "text": [
            "313/313 - 32s - loss: 0.6174 - accuracy: 0.7692\n",
            "0.6173680424690247 0.7692000269889832\n"
          ]
        }
      ]
    },
    {
      "cell_type": "code",
      "metadata": {
        "colab": {
          "base_uri": "https://localhost:8080/"
        },
        "id": "XgCBsAeXCrXS",
        "outputId": "d02c409c-cff4-487d-a5cc-e546e6e9a713"
      },
      "source": [
        "#weight printing \n",
        "for layer in model.layers: print(layer.get_config(), layer.get_weights())"
      ],
      "execution_count": 28,
      "outputs": [
        {
          "output_type": "stream",
          "name": "stdout",
          "text": [
            "{'name': 'dense_30', 'trainable': True, 'batch_input_shape': (None, 28, 28, 1), 'dtype': 'float32', 'units': 128, 'activation': 'elu', 'use_bias': True, 'kernel_initializer': {'class_name': 'GlorotUniform', 'config': {'seed': None}}, 'bias_initializer': {'class_name': 'Zeros', 'config': {}}, 'kernel_regularizer': None, 'bias_regularizer': None, 'activity_regularizer': None, 'kernel_constraint': None, 'bias_constraint': None} [array([[ 4.78429794e-02,  5.59800155e-02, -1.70974880e-02,\n",
            "         6.34380104e-03, -8.85788724e-03, -2.77127232e-02,\n",
            "        -9.81187820e-03, -8.59247446e-02, -9.47398692e-02,\n",
            "        -6.99707195e-02, -4.33409470e-04,  8.75833258e-02,\n",
            "        -7.32018799e-02,  5.21836691e-02, -2.77764094e-03,\n",
            "        -3.56044085e-03,  4.15167920e-02, -2.58800425e-02,\n",
            "        -1.11809678e-01,  1.53746281e-03, -4.41069826e-02,\n",
            "         2.93591470e-02,  1.78402271e-02,  3.76401586e-03,\n",
            "        -1.96398422e-01,  1.14504956e-01, -4.33747005e-03,\n",
            "        -2.28716992e-03, -1.17660433e-01,  7.87228625e-03,\n",
            "        -2.50232760e-02,  2.02359213e-03, -3.40862721e-02,\n",
            "         1.66677998e-03,  3.61623764e-02,  2.45480030e-03,\n",
            "         3.16000171e-02, -7.27344006e-02, -6.23530000e-02,\n",
            "        -4.43206578e-02,  8.87670815e-02, -1.29117712e-01,\n",
            "         7.09551871e-02, -6.85269386e-02, -3.57383974e-02,\n",
            "        -5.16070332e-03,  6.85184915e-03,  8.56966749e-02,\n",
            "         6.80041835e-02, -3.90552450e-03, -3.31041440e-02,\n",
            "         2.57570352e-02, -2.27354831e-05,  6.04165755e-02,\n",
            "        -8.37463439e-02, -1.95600349e-03, -7.40614533e-02,\n",
            "        -3.15143587e-03, -9.46503412e-03, -2.77247820e-02,\n",
            "         2.45645884e-02, -3.86590534e-03,  1.06547318e-01,\n",
            "         1.10430129e-01, -9.91224274e-02,  5.00627346e-02,\n",
            "        -4.91553806e-02,  8.76833312e-03,  3.07570267e-02,\n",
            "        -8.14265981e-02, -2.89573893e-03,  2.97659659e-03,\n",
            "        -5.62699046e-03,  8.77934322e-03, -5.99830598e-03,\n",
            "         1.71883171e-03, -2.39851139e-03,  7.98791721e-02,\n",
            "         2.87183318e-02,  1.33833569e-02, -7.30531849e-03,\n",
            "        -1.49292156e-01, -1.21567468e-03,  1.61808683e-03,\n",
            "        -5.76399267e-02, -6.80552050e-03, -4.32585441e-02,\n",
            "        -5.27350185e-03, -2.30794284e-03, -5.84912067e-03,\n",
            "         7.34920474e-03, -6.86081648e-02, -3.18932300e-03,\n",
            "        -7.38825351e-02,  9.20853391e-02, -8.91976524e-03,\n",
            "         6.67429715e-02, -7.24071753e-04, -5.71857430e-02,\n",
            "        -8.33403766e-02, -9.61275324e-02,  4.85712774e-02,\n",
            "        -1.68988630e-02,  1.27868894e-02, -1.75672099e-02,\n",
            "        -4.87219018e-04, -1.28319621e-01,  5.76941587e-04,\n",
            "        -9.44530591e-03,  8.37547109e-02,  5.84050566e-02,\n",
            "         6.98041543e-03,  1.91629063e-02,  7.30609298e-02,\n",
            "         2.47014798e-02, -1.84786727e-03, -1.53555721e-01,\n",
            "         2.38126330e-03, -1.84346829e-03, -1.27427876e-02,\n",
            "         3.03930007e-02, -4.07483522e-03, -2.47471593e-03,\n",
            "         1.02609113e-01,  1.05705680e-02, -3.94370481e-02,\n",
            "        -4.49573286e-02, -3.45371966e-03]], dtype=float32), array([-8.54047574e-03, -1.48550058e-02,  4.83961217e-03,  2.07676459e-03,\n",
            "       -2.75430735e-03,  3.70880216e-03, -3.05115391e-04,  2.54896227e-02,\n",
            "        1.44712217e-02,  1.06999921e-02, -3.29933275e-04, -1.72778964e-02,\n",
            "        1.10347616e-02, -1.49722137e-02, -1.59589085e-03,  2.18843634e-04,\n",
            "       -1.22606754e-02,  8.78244452e-03,  1.65233184e-02,  2.98405928e-03,\n",
            "        9.61874891e-03, -4.24096687e-03, -3.03018326e-03, -6.54121104e-04,\n",
            "        2.90755033e-02, -1.91422626e-02, -2.30277365e-04,  3.28889204e-04,\n",
            "        2.32188646e-02, -3.26515967e-03,  6.44807052e-03,  8.91105679e-04,\n",
            "        7.03907060e-03, -1.57960312e-06, -1.48435803e-02, -4.61589312e-04,\n",
            "       -8.44414439e-03,  1.35760335e-02,  8.81929137e-03,  5.02469391e-03,\n",
            "       -1.19269807e-02,  1.54955238e-02, -1.55225694e-02,  1.82971880e-02,\n",
            "        4.48892312e-03, -5.61664160e-03, -4.01232857e-03, -1.55403782e-02,\n",
            "       -1.69286132e-02, -4.89581516e-03,  2.53586494e-03, -9.67447273e-03,\n",
            "       -3.28540220e-03, -1.96443554e-02,  1.73040368e-02,  2.93051964e-03,\n",
            "        1.60591751e-02, -3.96002829e-03,  7.04031577e-03,  5.54838264e-03,\n",
            "       -1.35992793e-02,  5.96696092e-03, -2.06526220e-02, -2.22439170e-02,\n",
            "        1.35776782e-02, -7.90063944e-03,  7.60281086e-03, -7.19211763e-04,\n",
            "       -9.06655751e-03,  1.42883770e-02, -3.20788613e-03, -2.59315735e-03,\n",
            "        8.71069171e-03, -5.70243364e-03,  2.87833158e-03, -3.00761778e-03,\n",
            "       -3.94129864e-04, -2.23565903e-02, -6.39050687e-03, -5.28947124e-03,\n",
            "        1.56334403e-03,  2.46743709e-02,  2.93861097e-03,  2.51382007e-03,\n",
            "        7.89004285e-03,  8.22479092e-03,  1.42953461e-02,  1.07686000e-03,\n",
            "        3.22808482e-04,  1.42027988e-04,  3.80691560e-03,  1.38015188e-02,\n",
            "        2.10677623e-03,  2.00276319e-02, -2.48618349e-02,  6.45422656e-03,\n",
            "       -9.46552027e-03, -2.20903917e-03,  1.27881952e-02,  1.32163782e-02,\n",
            "        2.34944969e-02, -2.22855080e-02,  3.61887855e-03, -2.56300555e-03,\n",
            "        4.57757805e-03, -4.21764329e-03,  2.33862102e-02, -4.40410152e-03,\n",
            "        2.25415127e-03, -1.52550805e-02, -2.33861860e-02, -1.61434722e-03,\n",
            "       -5.77692641e-03, -1.32261068e-02, -9.93694272e-03,  2.40444159e-03,\n",
            "        2.28041187e-02, -1.12626259e-03,  1.39522937e-03,  2.78555579e-03,\n",
            "       -1.25359679e-02,  1.29485934e-03,  2.47303513e-04, -1.78081468e-02,\n",
            "       -3.62818898e-03,  9.01030656e-03,  1.11216344e-02,  4.71708411e-03],\n",
            "      dtype=float32)]\n",
            "{'name': 'dropout_4', 'trainable': True, 'dtype': 'float32', 'rate': 0.2, 'noise_shape': None, 'seed': None} []\n",
            "{'name': 'dense_31', 'trainable': True, 'dtype': 'float32', 'units': 128, 'activation': 'elu', 'use_bias': True, 'kernel_initializer': {'class_name': 'GlorotUniform', 'config': {'seed': None}}, 'bias_initializer': {'class_name': 'Zeros', 'config': {}}, 'kernel_regularizer': None, 'bias_regularizer': None, 'activity_regularizer': None, 'kernel_constraint': None, 'bias_constraint': None} [array([[-0.11529652, -0.02666386, -0.00406895, ..., -0.05588614,\n",
            "         0.12403802, -0.05432185],\n",
            "       [-0.10957055, -0.0397017 , -0.01445722, ..., -0.11418574,\n",
            "         0.07825845,  0.13430996],\n",
            "       [-0.02412117,  0.06716932,  0.12428495, ...,  0.08723935,\n",
            "         0.05295515,  0.00312501],\n",
            "       ...,\n",
            "       [-0.04020661,  0.03712008,  0.12600721, ...,  0.01741087,\n",
            "        -0.03412597,  0.14082935],\n",
            "       [ 0.00970039, -0.0682226 , -0.12588866, ...,  0.00419178,\n",
            "        -0.00647053, -0.13021967],\n",
            "       [-0.11311332, -0.08470452, -0.01858733, ..., -0.09924527,\n",
            "         0.0106783 , -0.00014333]], dtype=float32), array([ 2.9550171e-03,  6.5441185e-05, -6.5644812e-03, -2.3446714e-03,\n",
            "        2.2273161e-03, -3.3397588e-03, -5.6403866e-03, -3.2700975e-03,\n",
            "        2.7563685e-04, -1.1112138e-03,  8.2756625e-03, -5.6410911e-03,\n",
            "       -3.5468640e-04, -2.6924016e-03, -2.2679666e-05, -2.3097880e-03,\n",
            "        2.2369958e-03, -4.5250505e-04, -1.3575529e-05,  2.3560079e-03,\n",
            "        4.9880049e-03,  2.2609644e-03,  3.2638661e-03,  3.1689586e-04,\n",
            "        1.1870126e-03, -1.5320691e-03, -4.9103722e-03,  6.8843155e-04,\n",
            "       -2.5533100e-03, -3.9071415e-04, -1.8207290e-03, -3.8218193e-03,\n",
            "        4.8983148e-03, -2.6170991e-03,  5.0719338e-03,  8.5272221e-04,\n",
            "       -5.9118820e-03,  1.2707469e-03,  9.0444385e-04,  2.6730427e-03,\n",
            "       -3.6546579e-03, -1.6895146e-03, -5.1256670e-03, -4.4359639e-03,\n",
            "       -6.8380549e-03, -2.0430537e-03, -3.3554987e-03,  1.2753719e-04,\n",
            "       -1.1497155e-03, -5.3233257e-04,  8.5554595e-05, -3.8361829e-03,\n",
            "        9.3273353e-03, -2.0901992e-03,  8.0404375e-03,  8.4772306e-05,\n",
            "        4.8795273e-04, -3.5765155e-03, -4.9368932e-04, -6.5807148e-04,\n",
            "        7.1730238e-04,  3.2204243e-03, -1.2873163e-03, -1.9306056e-03,\n",
            "       -4.9513299e-03,  1.6026859e-03, -6.8711102e-05,  7.3116883e-03,\n",
            "       -9.9510921e-04,  2.3267388e-03,  2.4906266e-03,  5.9963404e-03,\n",
            "        1.1689391e-03, -5.3638924e-04, -4.5538978e-03, -5.4064705e-03,\n",
            "       -5.1591969e-03, -3.5970579e-03, -5.4240860e-03, -1.2120436e-03,\n",
            "       -5.3358455e-03, -3.5162976e-03, -8.6246552e-03, -1.0413233e-03,\n",
            "       -4.1452805e-03, -2.0474431e-03, -4.0790346e-03,  2.0046779e-03,\n",
            "        3.4433356e-04,  1.0117038e-02, -4.4051530e-03, -2.5665860e-03,\n",
            "        2.7206307e-03, -7.4545466e-03, -3.9671264e-03,  2.3520142e-03,\n",
            "        3.2158464e-03, -1.9547516e-04,  4.4621979e-03,  3.4690257e-03,\n",
            "        2.1703742e-03,  5.8898348e-03, -3.9016479e-03, -1.0276072e-03,\n",
            "       -4.4632731e-03, -4.4909366e-03, -3.6074219e-03,  7.0113107e-05,\n",
            "       -2.2153067e-03, -1.7815210e-03, -1.9792763e-03,  1.9225316e-03,\n",
            "       -4.8038373e-03, -2.7133212e-03,  9.4375573e-04,  3.1864427e-03,\n",
            "        7.0965337e-03, -1.7601295e-03, -2.0935920e-03, -8.0559487e-03,\n",
            "       -4.1820570e-03,  6.1319247e-03,  2.8314255e-03, -2.7833399e-03,\n",
            "       -5.4496923e-03, -6.1780104e-04,  3.8852217e-03,  4.9513848e-03],\n",
            "      dtype=float32)]\n",
            "{'name': 'dropout_5', 'trainable': True, 'dtype': 'float32', 'rate': 0.2, 'noise_shape': None, 'seed': None} []\n",
            "{'name': 'dense_32', 'trainable': True, 'dtype': 'float32', 'units': 128, 'activation': 'elu', 'use_bias': True, 'kernel_initializer': {'class_name': 'GlorotUniform', 'config': {'seed': None}}, 'bias_initializer': {'class_name': 'Zeros', 'config': {}}, 'kernel_regularizer': None, 'bias_regularizer': None, 'activity_regularizer': None, 'kernel_constraint': None, 'bias_constraint': None} [array([[-0.08617912,  0.06856199, -0.07269347, ..., -0.05158097,\n",
            "         0.01600259, -0.12225591],\n",
            "       [ 0.04565292, -0.01343616,  0.08730084, ...,  0.08173501,\n",
            "         0.11251073,  0.10127567],\n",
            "       [-0.11038494,  0.03568534, -0.02893219, ...,  0.03220886,\n",
            "         0.03689017,  0.06141482],\n",
            "       ...,\n",
            "       [-0.17937866,  0.09325553,  0.00295256, ..., -0.03232497,\n",
            "         0.05751588,  0.03854595],\n",
            "       [-0.03894385,  0.0507769 , -0.04495616, ...,  0.02326768,\n",
            "        -0.0167567 ,  0.02742209],\n",
            "       [-0.02254378, -0.05599346, -0.10679053, ..., -0.02961494,\n",
            "         0.04817776,  0.0082294 ]], dtype=float32), array([ 4.9200482e-03, -9.2240877e-04, -2.6458944e-03,  2.4421548e-03,\n",
            "       -2.9774182e-03,  4.8190476e-03,  3.8806968e-03, -1.0139956e-03,\n",
            "        2.1046407e-03, -9.7481388e-04,  5.3373096e-04, -1.4528558e-03,\n",
            "        3.2254669e-03, -7.4425288e-03, -1.6373396e-04,  1.7437080e-04,\n",
            "       -8.0583076e-04, -3.5158608e-03,  1.9060940e-03,  4.4849981e-03,\n",
            "        3.2936558e-04, -9.1794605e-04,  1.8364314e-03,  4.5441641e-03,\n",
            "       -2.5623806e-03,  1.2790151e-03,  6.8748044e-04, -8.6381594e-03,\n",
            "        1.0002188e-03, -1.0862970e-03, -9.5498306e-04, -6.1579928e-04,\n",
            "        8.9793617e-04,  1.0478033e-03, -6.0846726e-03, -1.8700801e-03,\n",
            "        4.3777744e-03,  1.3811239e-03, -6.0659525e-04, -4.9425632e-04,\n",
            "        5.9313211e-03,  2.6645754e-03, -9.9884404e-04, -1.3081565e-03,\n",
            "        2.1317096e-03, -3.1672474e-03, -4.5851171e-03,  4.8480257e-03,\n",
            "        1.6689395e-03, -3.1491662e-05, -4.2582205e-03, -1.3539259e-04,\n",
            "       -7.8784283e-03, -2.8231975e-03,  4.3550371e-03, -5.2163694e-03,\n",
            "        2.9762008e-03,  7.7966822e-04, -3.1825041e-03, -6.2772946e-04,\n",
            "        2.8115863e-03,  2.8116896e-04, -4.8163310e-03,  3.5970481e-03,\n",
            "       -9.5448102e-04,  5.5480760e-04,  2.5896314e-03,  1.2808093e-03,\n",
            "        5.0899307e-03,  1.2710665e-05,  3.7174919e-03, -1.1986957e-03,\n",
            "       -4.1358862e-03,  1.4661396e-03, -1.0304683e-03,  1.4205468e-03,\n",
            "        1.7127855e-03, -3.9247153e-03, -6.0289744e-03, -6.5358698e-05,\n",
            "        4.8565520e-03,  1.6254011e-03, -2.0577554e-03, -9.9316426e-03,\n",
            "       -5.3381859e-03,  5.9449198e-03, -4.7757775e-03,  1.0462150e-03,\n",
            "        4.2783733e-05,  1.1800964e-03, -5.8716099e-04, -9.3912380e-04,\n",
            "        1.3299892e-03,  6.0040508e-03, -4.6243492e-04, -5.2053439e-03,\n",
            "        2.8994860e-04, -8.2606316e-04, -2.1372696e-03,  2.6469730e-04,\n",
            "        4.0156366e-03,  2.3458474e-03,  3.7803296e-03, -2.6890456e-03,\n",
            "        2.0061505e-03,  4.8006903e-03, -2.4013876e-03,  1.4551196e-03,\n",
            "       -3.7943927e-04, -1.7162147e-03, -2.2020470e-03, -8.5819798e-04,\n",
            "       -1.8322007e-03,  5.5946074e-03, -2.2007341e-03,  7.0316123e-04,\n",
            "       -4.8550698e-03, -3.8307672e-03,  8.8946993e-04,  1.9353734e-03,\n",
            "       -1.9083977e-03,  5.5708701e-04, -3.6378864e-03, -7.6245511e-04,\n",
            "        8.7877718e-04,  6.8449276e-04, -5.2285623e-03, -1.9023953e-03],\n",
            "      dtype=float32)]\n",
            "{'name': 'dropout_6', 'trainable': True, 'dtype': 'float32', 'rate': 0.2, 'noise_shape': None, 'seed': None} []\n",
            "{'name': 'dense_33', 'trainable': True, 'dtype': 'float32', 'units': 128, 'activation': 'elu', 'use_bias': True, 'kernel_initializer': {'class_name': 'GlorotUniform', 'config': {'seed': None}}, 'bias_initializer': {'class_name': 'Zeros', 'config': {}}, 'kernel_regularizer': None, 'bias_regularizer': None, 'activity_regularizer': None, 'kernel_constraint': None, 'bias_constraint': None} [array([[ 0.0949951 , -0.04650187,  0.04329021, ..., -0.07414062,\n",
            "        -0.09212124, -0.01392795],\n",
            "       [ 0.04976412,  0.05433602, -0.08671799, ...,  0.04289045,\n",
            "        -0.05085514, -0.0598989 ],\n",
            "       [-0.03802992,  0.03449412,  0.01098413, ...,  0.10648973,\n",
            "        -0.02312203,  0.03437106],\n",
            "       ...,\n",
            "       [-0.04216208,  0.04245351,  0.0488327 , ...,  0.02476396,\n",
            "         0.14640242,  0.09711688],\n",
            "       [-0.04215806, -0.02023044, -0.04616347, ..., -0.01019931,\n",
            "        -0.09852838,  0.03606475],\n",
            "       [ 0.0185839 , -0.02536234,  0.05006919, ..., -0.10173711,\n",
            "        -0.02182988, -0.01299695]], dtype=float32), array([ 1.00733247e-03, -4.90536168e-03, -7.81737641e-03,  8.71814264e-04,\n",
            "       -2.80812965e-03, -6.13357814e-04,  1.06862467e-03,  2.54417025e-03,\n",
            "        3.87458313e-05, -2.24593934e-03,  1.59338266e-02, -2.90815649e-03,\n",
            "        6.06625201e-03, -2.15029460e-04,  1.14268064e-03, -3.75099760e-03,\n",
            "        1.09914492e-03,  4.36583126e-04,  5.84393553e-03,  4.60699433e-04,\n",
            "       -6.63443934e-03,  8.64259928e-05, -1.47197046e-03,  3.77811701e-03,\n",
            "       -3.75041971e-03, -7.68482627e-04,  5.75543731e-04,  6.73052273e-04,\n",
            "       -1.32437493e-03,  5.54415223e-04,  3.76747199e-03, -4.15179972e-03,\n",
            "       -3.45877022e-03,  1.87754317e-03,  1.72628975e-03, -1.70473685e-03,\n",
            "       -2.12550815e-03, -2.83408980e-03,  1.82232156e-03,  6.26466842e-03,\n",
            "        1.07602859e-02,  1.28346425e-03, -4.20990400e-03, -1.55354070e-03,\n",
            "       -1.10398076e-04, -4.67534031e-04,  5.36152394e-04,  2.83492263e-03,\n",
            "        1.35822163e-03,  3.18793417e-03,  1.29792532e-02,  6.26671303e-04,\n",
            "        4.84850083e-04,  5.28099760e-03, -3.72784561e-03,  4.85632382e-03,\n",
            "       -4.92835836e-03,  3.20768077e-03, -1.75460207e-03, -5.06008137e-03,\n",
            "       -5.58382424e-04, -2.74512544e-03,  3.74101615e-03,  7.48947915e-03,\n",
            "       -1.51987607e-03, -2.60983780e-03, -6.72396505e-03,  1.90004788e-03,\n",
            "       -4.55203699e-03,  2.38239719e-03,  9.18737438e-04, -1.04740041e-03,\n",
            "        2.34782114e-03, -4.13544057e-03,  4.52759850e-04, -5.22647868e-04,\n",
            "        9.81249381e-03,  6.03460707e-03,  6.18845643e-03,  2.16962071e-03,\n",
            "        2.25347874e-04,  2.11995764e-04, -2.11738632e-03, -1.24918961e-03,\n",
            "       -2.87724123e-03,  4.37814556e-03,  7.95371272e-03, -1.80538651e-02,\n",
            "       -1.26002496e-02, -3.44424369e-03,  2.04911549e-03, -1.94414891e-02,\n",
            "        2.40676431e-03,  4.07621730e-03,  7.22135010e-05,  8.12996994e-04,\n",
            "        1.15425640e-03,  6.00760942e-03,  4.47873957e-03, -1.66624505e-02,\n",
            "        4.68803057e-03,  1.81903108e-03,  2.09483830e-03, -1.14795391e-03,\n",
            "        3.83266504e-03, -3.68929701e-03,  6.15190598e-04,  2.33354466e-03,\n",
            "        4.20087622e-03,  4.58990736e-03,  3.22647695e-03,  2.24345131e-03,\n",
            "        6.21094229e-03,  1.91501027e-03,  1.87549763e-03, -2.83999194e-04,\n",
            "        2.90632684e-04,  2.70536449e-03,  2.49739201e-03, -2.65976472e-04,\n",
            "        1.13153681e-02, -1.79682538e-04,  8.75687692e-06, -8.42406601e-03,\n",
            "        3.18051432e-03,  2.83807953e-04, -2.72158626e-03,  1.91005366e-03],\n",
            "      dtype=float32)]\n",
            "{'name': 'dropout_7', 'trainable': True, 'dtype': 'float32', 'rate': 0.2, 'noise_shape': None, 'seed': None} []\n",
            "{'name': 'flatten_3', 'trainable': True, 'dtype': 'float32', 'data_format': 'channels_last'} []\n",
            "{'name': 'dense_34', 'trainable': True, 'dtype': 'float32', 'units': 10, 'activation': 'linear', 'use_bias': True, 'kernel_initializer': {'class_name': 'GlorotUniform', 'config': {'seed': None}}, 'bias_initializer': {'class_name': 'Zeros', 'config': {}}, 'kernel_regularizer': None, 'bias_regularizer': None, 'activity_regularizer': None, 'kernel_constraint': None, 'bias_constraint': None} [array([[ 0.02103062,  0.04909964, -0.00414924, ..., -0.02995696,\n",
            "         0.04828631,  0.06278115],\n",
            "       [-0.02756038,  0.00225084, -0.00649105, ..., -0.00892408,\n",
            "        -0.05368194,  0.05416459],\n",
            "       [-0.00651804,  0.00203928, -0.01744621, ...,  0.02225509,\n",
            "        -0.06863616,  0.01963859],\n",
            "       ...,\n",
            "       [ 0.02796127,  0.00082601, -0.02721608, ...,  0.00296005,\n",
            "         0.08149293, -0.01682664],\n",
            "       [-0.02955039, -0.00270781, -0.01692353, ..., -0.00865899,\n",
            "        -0.02278984,  0.00586139],\n",
            "       [ 0.00466318, -0.01204913,  0.04079483, ..., -0.00243498,\n",
            "        -0.08589223, -0.00153438]], dtype=float32), array([ 0.01901098, -0.02376118,  0.01990921, -0.00957316, -0.08120709,\n",
            "        0.03895438,  0.05442254, -0.02824378,  0.06680164, -0.06456153],\n",
            "      dtype=float32)]\n",
            "{'name': 'activation_4', 'trainable': True, 'dtype': 'float32', 'activation': 'softmax'} []\n"
          ]
        }
      ]
    },
    {
      "cell_type": "code",
      "metadata": {
        "id": "uzuE7nzml7VO"
      },
      "source": [
        ""
      ],
      "execution_count": null,
      "outputs": []
    }
  ]
}