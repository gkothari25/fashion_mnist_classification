{
  "nbformat": 4,
  "nbformat_minor": 0,
  "metadata": {
    "colab": {
      "name": "Copy of assignment_capgemini.ipynb",
      "provenance": [],
      "collapsed_sections": [],
      "authorship_tag": "ABX9TyPGm2EMUeZzYIh9BW5R9yQP",
      "include_colab_link": true
    },
    "kernelspec": {
      "name": "python3",
      "display_name": "Python 3"
    },
    "language_info": {
      "name": "python"
    }
  },
  "cells": [
    {
      "cell_type": "markdown",
      "metadata": {
        "id": "view-in-github",
        "colab_type": "text"
      },
      "source": [
        "<a href=\"https://colab.research.google.com/github/gkothari25/fashion_mnist_classification/blob/main/assignment_capgemini.ipynb\" target=\"_parent\"><img src=\"https://colab.research.google.com/assets/colab-badge.svg\" alt=\"Open In Colab\"/></a>"
      ]
    },
    {
      "cell_type": "code",
      "metadata": {
        "id": "h61w9qNXHw7M",
        "colab": {
          "base_uri": "https://localhost:8080/"
        },
        "outputId": "ff27df1c-a10e-4573-eb87-a608a33a85ea"
      },
      "source": [
        "from keras.datasets import fashion_mnist\n",
        "(x_train, y_train), (x_test, y_test) = fashion_mnist.load_data()"
      ],
      "execution_count": null,
      "outputs": [
        {
          "output_type": "stream",
          "name": "stdout",
          "text": [
            "Downloading data from https://storage.googleapis.com/tensorflow/tf-keras-datasets/train-labels-idx1-ubyte.gz\n",
            "32768/29515 [=================================] - 0s 0us/step\n",
            "40960/29515 [=========================================] - 0s 0us/step\n",
            "Downloading data from https://storage.googleapis.com/tensorflow/tf-keras-datasets/train-images-idx3-ubyte.gz\n",
            "26427392/26421880 [==============================] - 0s 0us/step\n",
            "26435584/26421880 [==============================] - 0s 0us/step\n",
            "Downloading data from https://storage.googleapis.com/tensorflow/tf-keras-datasets/t10k-labels-idx1-ubyte.gz\n",
            "16384/5148 [===============================================================================================] - 0s 0us/step\n",
            "Downloading data from https://storage.googleapis.com/tensorflow/tf-keras-datasets/t10k-images-idx3-ubyte.gz\n",
            "4423680/4422102 [==============================] - 0s 0us/step\n",
            "4431872/4422102 [==============================] - 0s 0us/step\n"
          ]
        }
      ]
    },
    {
      "cell_type": "code",
      "metadata": {
        "id": "akq4Te38IW0Y"
      },
      "source": [
        "x_train = x_train/255.0\n",
        "x_test = x_test/255.0"
      ],
      "execution_count": null,
      "outputs": []
    },
    {
      "cell_type": "code",
      "metadata": {
        "id": "zLVWBGvQIZoU"
      },
      "source": [
        "#select the 5k images having 500 each class\n",
        "import numpy as np\n",
        "import random\n",
        "\n",
        "index_dict = {}\n",
        "count_index = 0\n",
        "val_dict = {}\n",
        "count_val = 0\n",
        "\n",
        "#create a tensor and copy the desired data from the all the data files to that.\n",
        "train_t = np.ones((5000,28,28))\n",
        "lable_train = []\n",
        "val_t = np.ones((1500,28,28))\n",
        "lable_val = []\n",
        "\n",
        "for k in list(set(y_train)):\n",
        "  index_list = []\n",
        "  \n",
        "  for sn,i in enumerate(zip(x_train,y_train)):\n",
        "    if int(i[1]) == k:\n",
        "      index_list.append(sn) \n",
        "  index_dict[k] = index_list\n",
        "\n",
        "  #select the n random value from the list\n",
        "  random.seed(4)\n",
        "  t_list = random.sample(index_list,k=500)\n",
        "  resid_list = list(set(index_list).difference(t_list))\n",
        "  val_list = random.sample(resid_list,k=150)\n",
        "  val_dict[k] = val_list\n",
        "  \n",
        "  for index in t_list:\n",
        "    train_t[count_index] = x_train[index]\n",
        "    lable_train.append(k)\n",
        "    count_index  = count_index + 1\n",
        "  print(\"tr\",t_list[:10])\n",
        "\n",
        "  for val in val_list:\n",
        "    val_t[count_val] = x_train[val]\n",
        "    lable_val.append(k)\n",
        "    count_val = count_val + 1\n",
        "  print(\"val\",val_list[:10])\n"
      ],
      "execution_count": null,
      "outputs": []
    },
    {
      "cell_type": "code",
      "metadata": {
        "id": "O6r15FQHOkD1"
      },
      "source": [
        "#now lets create a network for the classification with 5 CNN layers.\n",
        "import keras\n",
        "from keras.models import Sequential\n",
        "from keras.layers import Conv2D, MaxPooling2D\n",
        "from keras.layers import Activation, Dropout, Flatten, Dense\n",
        "# from keras.layers.normalization import BatchNormalization\n",
        "from tensorflow.keras.layers import BatchNormalization\n",
        "from keras import regularizers"
      ],
      "execution_count": null,
      "outputs": []
    },
    {
      "cell_type": "code",
      "metadata": {
        "id": "9ISS7XX0pH14"
      },
      "source": [
        "import tensorflow as tf\n",
        "\n",
        "def create_model():\n",
        "    \"\"\"\n",
        "    Creates a simple sequential model\n",
        "    \"\"\"\n",
        "    \n",
        "    cnn = tf.keras.Sequential()\n",
        "    \n",
        "    cnn.add(tf.keras.layers.InputLayer(input_shape=(28,28,1)))\n",
        "    \n",
        "    # Normalization\n",
        "    cnn.add(tf.keras.layers.BatchNormalization())\n",
        "    \n",
        "    # Conv + Maxpooling\n",
        "    cnn.add(tf.keras.layers.Convolution2D(64, (4, 4), padding='same', activation='relu'))\n",
        "    cnn.add(tf.keras.layers.MaxPooling2D(pool_size=(2, 2)))\n",
        "\n",
        "    # Dropout\n",
        "    cnn.add(tf.keras.layers.Dropout(0.1))\n",
        "    \n",
        "    # Conv + Maxpooling\n",
        "    cnn.add(tf.keras.layers.Convolution2D(64, (4, 4), activation='relu'))\n",
        "    cnn.add(tf.keras.layers.MaxPooling2D(pool_size=(2, 2)))\n",
        "\n",
        "    # Dropout\n",
        "    cnn.add(tf.keras.layers.Dropout(0.3))\n",
        "\n",
        "    # Converting 3D feature to 1D feature Vektor\n",
        "    cnn.add(tf.keras.layers.Flatten())\n",
        "\n",
        "    # Fully Connected Layer\n",
        "    cnn.add(tf.keras.layers.Dense(256, activation='relu'))\n",
        "\n",
        "    # Dropout\n",
        "    cnn.add(tf.keras.layers.Dropout(0.5))\n",
        "    \n",
        "    # Fully Connected Layer\n",
        "    cnn.add(tf.keras.layers.Dense(64, activation='relu'))\n",
        "    \n",
        "    # Normalization\n",
        "    cnn.add(tf.keras.layers.BatchNormalization())\n",
        "\n",
        "    cnn.add(tf.keras.layers.Dense(10, activation='softmax'))\n",
        "    cnn.compile(loss='categorical_crossentropy', optimizer=tf.optimizers.Adam(), metrics=['accuracy'])\n",
        "\n",
        "    return cnn\n",
        "\n",
        "create_model().summary()\n"
      ],
      "execution_count": null,
      "outputs": []
    },
    {
      "cell_type": "code",
      "metadata": {
        "colab": {
          "base_uri": "https://localhost:8080/"
        },
        "id": "xDo8v67PAAaU",
        "outputId": "48934512-e05c-4d7e-c8fd-7c83f7f431b1"
      },
      "source": [
        "\n",
        "model.summary()"
      ],
      "execution_count": null,
      "outputs": [
        {
          "output_type": "stream",
          "name": "stdout",
          "text": [
            "Model: \"sequential_17\"\n",
            "_________________________________________________________________\n",
            "Layer (type)                 Output Shape              Param #   \n",
            "=================================================================\n",
            "batch_normalization_19 (Batc (None, 28, 28, 1)         4         \n",
            "_________________________________________________________________\n",
            "conv2d_54 (Conv2D)           (None, 28, 28, 64)        1088      \n",
            "_________________________________________________________________\n",
            "max_pooling2d_46 (MaxPooling (None, 14, 14, 64)        0         \n",
            "_________________________________________________________________\n",
            "dropout_21 (Dropout)         (None, 14, 14, 64)        0         \n",
            "_________________________________________________________________\n",
            "conv2d_55 (Conv2D)           (None, 11, 11, 64)        65600     \n",
            "_________________________________________________________________\n",
            "max_pooling2d_47 (MaxPooling (None, 5, 5, 64)          0         \n",
            "_________________________________________________________________\n",
            "dropout_22 (Dropout)         (None, 5, 5, 64)          0         \n",
            "_________________________________________________________________\n",
            "flatten_14 (Flatten)         (None, 1600)              0         \n",
            "_________________________________________________________________\n",
            "dense_32 (Dense)             (None, 256)               409856    \n",
            "_________________________________________________________________\n",
            "dropout_23 (Dropout)         (None, 256)               0         \n",
            "_________________________________________________________________\n",
            "dense_33 (Dense)             (None, 64)                16448     \n",
            "_________________________________________________________________\n",
            "batch_normalization_20 (Batc (None, 64)                256       \n",
            "_________________________________________________________________\n",
            "dense_34 (Dense)             (None, 10)                650       \n",
            "=================================================================\n",
            "Total params: 493,902\n",
            "Trainable params: 493,772\n",
            "Non-trainable params: 130\n",
            "_________________________________________________________________\n"
          ]
        }
      ]
    },
    {
      "cell_type": "code",
      "metadata": {
        "colab": {
          "base_uri": "https://localhost:8080/"
        },
        "id": "zZw55iOSuRl7",
        "outputId": "05d0bf17-07b5-43ec-d9b5-50e0290f38a3"
      },
      "source": [
        "val_t.reshape(val_t.shape[0],28,28,1)[2].shape"
      ],
      "execution_count": null,
      "outputs": [
        {
          "output_type": "execute_result",
          "data": {
            "text/plain": [
              "(28, 28, 1)"
            ]
          },
          "metadata": {},
          "execution_count": 105
        }
      ]
    },
    {
      "cell_type": "code",
      "metadata": {
        "id": "d0DunVuhyRw1"
      },
      "source": [
        "from sklearn.model_selection import train_test_split\n",
        "from tensorflow.keras.utils import to_categorical\n",
        "from keras.preprocessing.image import ImageDataGenerator\n",
        "\n",
        "batch_size = 32\n",
        "epochs=50\n",
        "\n",
        "# train_data   = np.expand_dims(train_t, axis=1)\n",
        "train_data =    train_t.reshape(train_t.shape[0],28,28,1)\n",
        "train_lables = np.array(lable_train)\n",
        "one_hot_label_train = to_categorical(train_lables)\n",
        "\n",
        "# val_data = np.expand_dims(val_t, axis=1)\n",
        "val_data = val_t.reshape(val_t.shape[0],28,28,1)\n",
        "val_lables = np.array(lable_val)\n",
        "one_hot_label_val = to_categorical(val_lables)\n",
        "\n",
        "train_data_gen = ImageDataGenerator(rotation_range=8, width_shift_range=0.08, shear_range=0.3,\n",
        "                         height_shift_range=0.08, zoom_range=0.08)\n",
        "test_gen = ImageDataGenerator()\n",
        "\n",
        "train_generator = train_data_gen.flow(train_data, one_hot_label_train, batch_size=batch_size)\n",
        "test_generator = test_gen.flow(val_data, one_hot_label_val, batch_size=batch_size)\n"
      ],
      "execution_count": null,
      "outputs": []
    },
    {
      "cell_type": "code",
      "metadata": {
        "id": "Sp0BgVmfk9kh"
      },
      "source": [
        "# validation_data = train_data\n",
        "# validation_labels = y_val1\n",
        "model = create_model()\n",
        "history = model.fit(train_generator,\n",
        "              batch_size = batch_size,\n",
        "              epochs = epochs,\n",
        "              validation_data = test_generator\n",
        "              )\n",
        "model.save_weights('bottleneck_fc_model.h5')"
      ],
      "execution_count": null,
      "outputs": []
    },
    {
      "cell_type": "code",
      "metadata": {
        "id": "-WdBiBDHv0To",
        "colab": {
          "base_uri": "https://localhost:8080/",
          "height": 295
        },
        "outputId": "c003b9e9-ae54-43c0-9049-d9b4ea0b1cac"
      },
      "source": [
        "import matplotlib.pyplot as plt\n",
        "\n",
        "# summarize history for loss\n",
        "plt.plot(history.history['loss'])\n",
        "plt.plot(history.history['val_loss'])\n",
        "plt.title('model loss')\n",
        "plt.ylabel('loss')\n",
        "plt.xlabel('epoch')\n",
        "plt.legend(['train', 'test'], loc='upper left')\n",
        "plt.show()"
      ],
      "execution_count": null,
      "outputs": [
        {
          "output_type": "display_data",
          "data": {
            "image/png": "[encoded data removed]",
            "text/plain": [
              "<Figure size 432x288 with 1 Axes>"
            ]
          },
          "metadata": {
            "needs_background": "light"
          }
        }
      ]
    },
    {
      "cell_type": "code",
      "metadata": {
        "colab": {
          "base_uri": "https://localhost:8080/",
          "height": 295
        },
        "id": "_EASp2qMgpY4",
        "outputId": "f84dc5c7-97af-4c5d-a2b0-e4fce5574448"
      },
      "source": [
        "# summarize history for accuracy\n",
        "plt.plot(history.history['accuracy'])\n",
        "plt.plot(history.history['val_accuracy'])\n",
        "plt.title('model accuracy')\n",
        "plt.ylabel('accuracy')\n",
        "plt.xlabel('epoch')\n",
        "plt.legend(['train', 'test'], loc='upper left')\n",
        "plt.show()"
      ],
      "execution_count": null,
      "outputs": [
        {
          "output_type": "display_data",
          "data": {
            "image/png": "[encoded data removed]",
            "text/plain": [
              "<Figure size 432x288 with 1 Axes>"
            ]
          },
          "metadata": {
            "needs_background": "light"
          }
        }
      ]
    },
    {
      "cell_type": "code",
      "metadata": {
        "id": "Pp6h6NntkjcF",
        "colab": {
          "base_uri": "https://localhost:8080/"
        },
        "outputId": "9871072d-110d-4b72-d311-b983269500f1"
      },
      "source": [
        "x_test1 = x_test.reshape(x_test.shape[0],28,28,1)\n",
        "\n",
        "one_hot_label_test = to_categorical(y_test)\n",
        "\n",
        "test_loss, test_acc = model.evaluate(x_test1,  one_hot_label_test, verbose=2)\n",
        "\n",
        "print(test_loss,test_acc)"
      ],
      "execution_count": null,
      "outputs": [
        {
          "output_type": "stream",
          "name": "stdout",
          "text": [
            "313/313 - 5s - loss: 0.3517 - accuracy: 0.8794\n",
            "0.35174089670181274 0.8794000148773193\n"
          ]
        }
      ]
    },
    {
      "cell_type": "code",
      "metadata": {
        "id": "EUNQ9iL2gupu"
      },
      "source": [
        ""
      ],
      "execution_count": null,
      "outputs": []
    },
    {
      "cell_type": "code",
      "metadata": {
        "colab": {
          "base_uri": "https://localhost:8080/",
          "height": 128
        },
        "id": "j2-j1lJHjdlK",
        "outputId": "5e72ad84-89e8-40e9-807c-cce82c862281"
      },
      "source": [
        "313/313 - 6s - loss: 0.4140 - accuracy: 0.8837\n",
        "0.41400277614593506 0.8837000131607056"
      ],
      "execution_count": null,
      "outputs": [
        {
          "output_type": "error",
          "ename": "SyntaxError",
          "evalue": "ignored",
          "traceback": [
            "\u001b[0;36m  File \u001b[0;32m\"<ipython-input-93-e682e5d7aafb>\"\u001b[0;36m, line \u001b[0;32m1\u001b[0m\n\u001b[0;31m    313/313 - 6s - loss: 0.4140 - accuracy: 0.8837\u001b[0m\n\u001b[0m               ^\u001b[0m\n\u001b[0;31mSyntaxError\u001b[0m\u001b[0;31m:\u001b[0m invalid syntax\n"
          ]
        }
      ]
    },
    {
      "cell_type": "code",
      "metadata": {
        "id": "LqEAbVGznw_A"
      },
      "source": [
        ""
      ],
      "execution_count": null,
      "outputs": []
    }
  ]
}